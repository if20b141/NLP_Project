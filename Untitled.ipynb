{
 "cells": [
  {
   "cell_type": "code",
   "execution_count": 1,
   "id": "97f5546b",
   "metadata": {},
   "outputs": [],
   "source": [
    "import re\n",
    "import string\n",
    "import pandas as pd\n",
    "from nltk.tokenize import word_tokenize\n",
    "from nltk.corpus import stopwords\n",
    "from nltk.stem import PorterStemmer\n",
    "from sklearn.feature_extraction.text import TfidfVectorizer\n",
    "from sklearn.model_selection import train_test_split\n",
    "from sklearn.naive_bayes import MultinomialNB\n",
    "from sklearn.metrics import accuracy_score\n",
    "\n",
    "file_path = \"reviews_data.csv\"\n",
    "df = pd.read_csv(file_path)\n",
    "\n",
    "# Hier wird der Text vorbereitet\n",
    "def preprocess_text(text):\n",
    "    text = text.lower()\n",
    "    tokens = word_tokenize(text)\n",
    "    tokens = [word for word in tokens if word.isalnum()]\n",
    "    stop_words = set(stopwords.words('english'))\n",
    "    filtered_tokens = [word for word in tokens if word not in stop_words]\n",
    "    stemmer = PorterStemmer()\n",
    "    stemmed_tokens = [stemmer.stem(word) for word in filtered_tokens]\n",
    "    return \" \".join(stemmed_tokens)\n",
    "\n",
    "df = df.dropna(subset=['Rating'])\n",
    "cleaned_reviews = df['Review'].apply(preprocess_text)\n",
    "ratings = df['Rating']\n",
    "\n",
    "new_df = pd.DataFrame({'Cleaned_Reviews': cleaned_reviews, 'Ratings': ratings})"
   ]
  },
  {
   "cell_type": "code",
   "execution_count": 2,
   "id": "c5e5250d",
   "metadata": {},
   "outputs": [
    {
     "name": "stdout",
     "output_type": "stream",
     "text": [
      "Accuracy Score: 0.6524822695035462\n"
     ]
    }
   ],
   "source": [
    "import pandas as pd\n",
    "from sklearn.model_selection import train_test_split\n",
    "from sklearn.feature_extraction.text import CountVectorizer\n",
    "from sklearn.naive_bayes import MultinomialNB\n",
    "from sklearn.metrics import accuracy_score\n",
    "\n",
    "\n",
    "# Aufteilung in Trainings- und Testdaten\n",
    "X = new_df['Cleaned_Reviews']\n",
    "y = new_df['Ratings']\n",
    "X_train, X_test, y_train, y_test = train_test_split(X, y, test_size=0.2, random_state=42)\n",
    "\n",
    "# Vektorisierung der Textdaten \n",
    "vectorizer = CountVectorizer()\n",
    "X_train_vec = vectorizer.fit_transform(X_train)\n",
    "X_test_vec = vectorizer.transform(X_test)\n",
    "\n",
    "# Naive Bayes Classifier wird trainiert\n",
    "clf = MultinomialNB()\n",
    "clf.fit(X_train_vec, y_train)\n",
    "\n",
    "# Predictions werden gemacht\n",
    "y_pred = clf.predict(X_test_vec)\n",
    "\n",
    "# Accuracy Score wird berechnet\n",
    "accuracy = accuracy_score(y_test, y_pred)\n",
    "print(f\"Accuracy Score: {accuracy}\")"
   ]
  },
  {
   "cell_type": "code",
   "execution_count": 13,
   "id": "881b598a",
   "metadata": {
    "scrolled": false
   },
   "outputs": [
    {
     "name": "stdout",
     "output_type": "stream",
     "text": [
      "Epoch 1/5\n",
      "18/18 [==============================] - 3s 76ms/step - loss: -0.0944 - accuracy: 0.6223 - val_loss: -4.5623 - val_accuracy: 0.5957\n",
      "Epoch 2/5\n",
      "18/18 [==============================] - 1s 53ms/step - loss: -5.7104 - accuracy: 0.6507 - val_loss: -9.5435 - val_accuracy: 0.5957\n",
      "Epoch 3/5\n",
      "18/18 [==============================] - 1s 51ms/step - loss: -8.7425 - accuracy: 0.6507 - val_loss: -12.4720 - val_accuracy: 0.5957\n",
      "Epoch 4/5\n",
      "18/18 [==============================] - 1s 54ms/step - loss: -10.6035 - accuracy: 0.6507 - val_loss: -14.3858 - val_accuracy: 0.5957\n",
      "Epoch 5/5\n",
      "18/18 [==============================] - 1s 53ms/step - loss: -12.0396 - accuracy: 0.6507 - val_loss: -16.0138 - val_accuracy: 0.5957\n",
      "5/5 [==============================] - 0s 13ms/step\n",
      "Accuracy Score: 0.5957446808510638\n",
      "              precision    recall  f1-score   support\n",
      "\n",
      "         1.0       0.60      1.00      0.75        84\n",
      "         2.0       0.00      0.00      0.00        19\n",
      "         3.0       0.00      0.00      0.00         8\n",
      "         4.0       0.00      0.00      0.00         8\n",
      "         5.0       0.00      0.00      0.00        22\n",
      "\n",
      "    accuracy                           0.60       141\n",
      "   macro avg       0.12      0.20      0.15       141\n",
      "weighted avg       0.35      0.60      0.44       141\n",
      "\n"
     ]
    },
    {
     "name": "stderr",
     "output_type": "stream",
     "text": [
      "c:\\users\\alanp\\appdata\\local\\programs\\python\\python38\\lib\\site-packages\\sklearn\\metrics\\_classification.py:1308: UndefinedMetricWarning: Precision and F-score are ill-defined and being set to 0.0 in labels with no predicted samples. Use `zero_division` parameter to control this behavior.\n",
      "  _warn_prf(average, modifier, msg_start, len(result))\n",
      "c:\\users\\alanp\\appdata\\local\\programs\\python\\python38\\lib\\site-packages\\sklearn\\metrics\\_classification.py:1308: UndefinedMetricWarning: Precision and F-score are ill-defined and being set to 0.0 in labels with no predicted samples. Use `zero_division` parameter to control this behavior.\n",
      "  _warn_prf(average, modifier, msg_start, len(result))\n",
      "c:\\users\\alanp\\appdata\\local\\programs\\python\\python38\\lib\\site-packages\\sklearn\\metrics\\_classification.py:1308: UndefinedMetricWarning: Precision and F-score are ill-defined and being set to 0.0 in labels with no predicted samples. Use `zero_division` parameter to control this behavior.\n",
      "  _warn_prf(average, modifier, msg_start, len(result))\n"
     ]
    }
   ],
   "source": [
    "import pandas as pd\n",
    "import numpy as np\n",
    "from sklearn.model_selection import train_test_split\n",
    "from tensorflow.keras.preprocessing.text import Tokenizer\n",
    "from tensorflow.keras.preprocessing.sequence import pad_sequences\n",
    "from tensorflow.keras.models import Sequential\n",
    "from tensorflow.keras.layers import Embedding, LSTM, Dense\n",
    "from sklearn.metrics import accuracy_score, confusion_matrix, roc_curve, auc\n",
    "import matplotlib.pyplot as plt\n",
    "from sklearn.preprocessing import label_binarize\n",
    "from sklearn.metrics import classification_report\n",
    "\n",
    "\n",
    "# Tokenisierung und Padding der Textdaten\n",
    "max_words = 10000\n",
    "max_sequence_length = 100\n",
    "\n",
    "tokenizer = Tokenizer(num_words=max_words)\n",
    "tokenizer.fit_on_texts(X_train)\n",
    "\n",
    "X_train_sequences = tokenizer.texts_to_sequences(X_train)\n",
    "X_test_sequences = tokenizer.texts_to_sequences(X_test)\n",
    "\n",
    "X_train_padded = pad_sequences(X_train_sequences, maxlen=max_sequence_length)\n",
    "X_test_padded = pad_sequences(X_test_sequences, maxlen=max_sequence_length)\n",
    "\n",
    "# Erstellung und Training des LSTM-Modells\n",
    "model = Sequential()\n",
    "model.add(Embedding(max_words, 128, input_length=max_sequence_length))\n",
    "model.add(LSTM(64))\n",
    "model.add(Dense(1, activation='sigmoid'))\n",
    "\n",
    "model.compile(loss='binary_crossentropy', optimizer='adam', metrics=['accuracy'])\n",
    "\n",
    "model.fit(X_train_padded, y_train, validation_data=(X_test_padded, y_test), epochs=5, batch_size=32)\n",
    "\n",
    "# Predictions werden erstellt\n",
    "y_pred = model.predict(X_test_padded)\n",
    "y_pred = np.round(y_pred).flatten().astype(int)\n",
    "\n",
    "accuracy = accuracy_score(y_test, y_pred)\n",
    "print(f\"Accuracy Score: {accuracy}\")\n",
    "\n",
    "\n",
    "print(classification_report(y_test, y_pred))"
   ]
  },
  {
   "cell_type": "code",
   "execution_count": null,
   "id": "8a83017c",
   "metadata": {},
   "outputs": [],
   "source": []
  }
 ],
 "metadata": {
  "kernelspec": {
   "display_name": "Python 3",
   "language": "python",
   "name": "python3"
  },
  "language_info": {
   "codemirror_mode": {
    "name": "ipython",
    "version": 3
   },
   "file_extension": ".py",
   "mimetype": "text/x-python",
   "name": "python",
   "nbconvert_exporter": "python",
   "pygments_lexer": "ipython3",
   "version": "3.8.7"
  }
 },
 "nbformat": 4,
 "nbformat_minor": 5
}
